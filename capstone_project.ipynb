{
  "nbformat": 4,
  "nbformat_minor": 0,
  "metadata": {
    "colab": {
      "name": "capstone_project.ipynb",
      "provenance": [],
      "collapsed_sections": [],
      "authorship_tag": "ABX9TyPX5yE0acmS+atmiKWSNaxd",
      "include_colab_link": true
    },
    "kernelspec": {
      "name": "python3",
      "display_name": "Python 3"
    },
    "language_info": {
      "name": "python"
    }
  },
  "cells": [
    {
      "cell_type": "markdown",
      "metadata": {
        "id": "view-in-github",
        "colab_type": "text"
      },
      "source": [
        "<a href=\"https://colab.research.google.com/github/liuezhong/homework/blob/master/capstone_project.ipynb\" target=\"_parent\"><img src=\"https://colab.research.google.com/assets/colab-badge.svg\" alt=\"Open In Colab\"/></a>"
      ]
    },
    {
      "cell_type": "code",
      "metadata": {
        "id": "ON5SLti_iJHt"
      },
      "source": [
        "!pip install lightgbm xgboost catboost category-encoders sklearn pandas==1.1.5"
      ],
      "execution_count": null,
      "outputs": []
    },
    {
      "cell_type": "code",
      "metadata": {
        "id": "R8wisOLgiXr5"
      },
      "source": [
        "!git clone https://github.com/liuezhong/homework.git"
      ],
      "execution_count": null,
      "outputs": []
    },
    {
      "cell_type": "code",
      "metadata": {
        "id": "4JM_B4lpjDli"
      },
      "source": [
        "import pandas as pd\n",
        "import numpy as np\n",
        "\n",
        "train = pd.read_csv('./homework/two/dataset/train_final.csv', engine='python')\n",
        "test = pd.read_csv('./homework/two/dataset/test_final.csv', engine='python')"
      ],
      "execution_count": 3,
      "outputs": []
    },
    {
      "cell_type": "code",
      "metadata": {
        "id": "ZzbJ01cii2Uy"
      },
      "source": [
        "train.columns.to_list()"
      ],
      "execution_count": null,
      "outputs": []
    },
    {
      "cell_type": "code",
      "metadata": {
        "id": "FdfLjW-UrNaW"
      },
      "source": [
        "train[\"continuous_loan_amnt\"].describe(percentiles=np.arange(0, 1,0.05))"
      ],
      "execution_count": null,
      "outputs": []
    },
    {
      "cell_type": "code",
      "metadata": {
        "id": "CgNgK-WhoSCH"
      },
      "source": [
        "train[\"continuous_annual_inc\"].describe(percentiles=np.arange(0, 1,0.05))"
      ],
      "execution_count": null,
      "outputs": []
    },
    {
      "cell_type": "code",
      "metadata": {
        "id": "EdTPPM2YswKT"
      },
      "source": [
        "pd.isnull(train['continuous_last_fico_range_high']).sum()"
      ],
      "execution_count": null,
      "outputs": []
    },
    {
      "cell_type": "code",
      "metadata": {
        "id": "cUj7cqOEukSZ"
      },
      "source": [
        "train[['loan_status', 'continuous_delinq_2yrs']].groupby('loan_status').describe(percentiles=np.arange(0, 1,0.05))"
      ],
      "execution_count": null,
      "outputs": []
    },
    {
      "cell_type": "code",
      "metadata": {
        "id": "b6ne8wg_rVlp"
      },
      "source": [
        "train[['loan_status', 'continuous_annual_inc']].groupby('loan_status').describe(percentiles=np.arange(0, 1,0.05))"
      ],
      "execution_count": null,
      "outputs": []
    },
    {
      "cell_type": "code",
      "metadata": {
        "id": "LZjh9RzFv4rY"
      },
      "source": [
        "train[['loan_status', 'continuous_int_rate']].groupby('loan_status').describe(percentiles=np.arange(0, 1,0.05))"
      ],
      "execution_count": null,
      "outputs": []
    },
    {
      "cell_type": "code",
      "metadata": {
        "id": "xrhP9sULvn6C"
      },
      "source": [
        "train['discrete_is_loan_10000'] = (train['continuous_loan_amnt'] ==10000).astype(np.int64)\n",
        "test['discrete_is_loan_10000'] = (train['continuous_loan_amnt'] ==10000).astype(np.int64)"
      ],
      "execution_count": null,
      "outputs": []
    },
    {
      "cell_type": "code",
      "metadata": {
        "id": "7LYsS8twwfTr"
      },
      "source": [
        "train['discrete_rate_greater_917'] = (train['continuous_int_rate'] > 9.17).astype(np.int64)\n",
        "test['discrete_rate_greater_917'] = (train['continuous_int_rate'] > 9.17).astype(np.int64)"
      ],
      "execution_count": 5,
      "outputs": []
    },
    {
      "cell_type": "code",
      "metadata": {
        "id": "R7Qp-ejTwFy4"
      },
      "source": [
        "train['discrete_is_loan_10000'].value_counts()"
      ],
      "execution_count": null,
      "outputs": []
    },
    {
      "cell_type": "code",
      "metadata": {
        "id": "VqKznN4lxv6Y"
      },
      "source": [
        "train['discrete_rate_greater_917'].value_counts()"
      ],
      "execution_count": null,
      "outputs": []
    },
    {
      "cell_type": "code",
      "metadata": {
        "id": "DGqr5WdFwRc3"
      },
      "source": [
        "pd.crosstab(train['discrete_is_loan_10000'], train['loan_status'])"
      ],
      "execution_count": null,
      "outputs": []
    },
    {
      "cell_type": "code",
      "metadata": {
        "id": "YABFySF_i6mj"
      },
      "source": [
        "import lightgbm as lgb\n",
        "train_dataset = lgb.Dataset(train.drop(columns='loan_status'), train['loan_status'])\n",
        "test_dataset = lgb.Dataset(test.drop(columns='loan_status'), test['loan_status'])"
      ],
      "execution_count": 6,
      "outputs": []
    },
    {
      "cell_type": "code",
      "metadata": {
        "id": "PD8b5Ufbjzpp"
      },
      "source": [
        "train_shaffle = train.sample(frac=1)\n",
        "train_new = lgb.Dataset(train.drop(columns='loan_status'), train['loan_status'])"
      ],
      "execution_count": 18,
      "outputs": []
    },
    {
      "cell_type": "code",
      "metadata": {
        "id": "ytWj-hQ1j3dm"
      },
      "source": [
        "param = {'num_leaves': 31, 'objective': 'binary', 'metric':'binary_error'}\n",
        "num_round = 2000"
      ],
      "execution_count": 9,
      "outputs": []
    },
    {
      "cell_type": "code",
      "metadata": {
        "id": "HJVgl6eXj7K7"
      },
      "source": [
        "model = lgb.train(param, train_new, num_boost_round=num_round, valid_sets=[train_dataset, test_dataset])"
      ],
      "execution_count": null,
      "outputs": []
    },
    {
      "cell_type": "code",
      "metadata": {
        "id": "pk8phvUz3Lkk"
      },
      "source": [
        "import io\n",
        "import multiprocessing\n",
        "from contextlib import redirect_stdout\n",
        "from copy import deepcopy\n",
        "from dataclasses import dataclass, asdict\n",
        "import hyperopt.pyll\n",
        "from hyperopt import fmin, tpe, hp\n",
        "import numpy as np\n",
        "import lightgbm as lgb\n",
        "from sklearn.metrics import accuracy_score\n",
        "from sklearn.metrics import f1_score\n",
        "from sklearn.metrics import precision_score\n",
        "from sklearn.metrics import recall_score\n",
        "from sklearn.metrics import roc_auc_score\n",
        "import torch\n",
        "\n",
        "import copy\n",
        "cpu_count = 4\n",
        "use_gpu = False\n",
        "@dataclass\n",
        "class LGBOpt:\n",
        "    num_threads: any = hp.choice('num_threads', [cpu_count])\n",
        "    num_leaves: any = hp.choice('num_leaves', [64])\n",
        "    metric: any = hp.choice('metric', ['binary_error'])\n",
        "    num_round: any = hp.choice('num_rounds', [1000])\n",
        "    objective: any = hp.choice('objective', ['binary'])\n",
        "    learning_rate: any = hp.uniform('learning_rate', 0.01, 0.1)\n",
        "    feature_fraction: any = hp.uniform('feature_fraction', 0.5, 1.0)\n",
        "    bagging_fraction: any = hp.uniform('bagging_fraction', 0.8, 1.0)\n",
        "    device_type: any = hp.choice('device_tpye', ['gpu']) if use_gpu else hp.choice('device_type',\n",
        "                                                                                   ['cpu'])\n",
        "    boosting: any = hp.choice('boosting', ['gbdt', 'dart', 'goss'])\n",
        "    extra_trees: any = hp.choice('extra_tress', [False, True])\n",
        "    drop_rate: any = hp.uniform('drop_rate', 0, 0.2)\n",
        "    uniform_drop: any = hp.choice('uniform_drop', [True, False])\n",
        "    lambda_l1: any = hp.uniform('lambda_l1', 0, 10)  # TODO: Check range\n",
        "    lambda_l2: any = hp.uniform('lambda_l2', 0, 10)  # TODO: Check range\n",
        "    min_gain_to_split: any = hp.uniform('min_gain_to_split', 0, 1)  # TODO: Check range\n",
        "    min_data_in_bin = hp.choice('min_data_in_bin', [3, 5, 10, 15, 20, 50])\n",
        "\n",
        "    @staticmethod\n",
        "    def get_common_params():\n",
        "        return {'num_thread': 4, 'num_leaves': 12, 'metric': 'binary', 'objective': 'binary',\n",
        "                'num_round': 1000, 'learning_rate': 0.01, 'feature_fraction': 0.8, 'bagging_fraction': 0.8}\n",
        "    "
      ],
      "execution_count": 11,
      "outputs": []
    },
    {
      "cell_type": "code",
      "metadata": {
        "id": "64owMInt3Y_G"
      },
      "source": [
        "class FitterBase(object):\n",
        "    def __init__(self, label, metric, max_eval=100, opt=None):\n",
        "        self.label = label\n",
        "        self.metric = metric\n",
        "        self.opt_params = dict()\n",
        "        self.max_eval = max_eval\n",
        "        self.opt = opt\n",
        "\n",
        "    def get_loss(self, y, y_pred):\n",
        "        if self.metric == 'error':\n",
        "            return 1 - accuracy_score(y, y_pred)\n",
        "        elif self.metric == 'precision':\n",
        "            return 1 - precision_score(y, y_pred)\n",
        "        elif self.metric == 'recall':\n",
        "            return 1 - recall_score(y, y_pred)\n",
        "        elif self.metric == 'macro_f1':\n",
        "            return 1 - f1_score(y, y_pred, average='macro')\n",
        "        elif self.metric == 'micro_f1':\n",
        "            return 1 - f1_score(y, y_pred, average='micro')\n",
        "        elif self.metric == 'auc':  # TODO: Add a warning checking if y_predict is all [0, 1], it should be probability\n",
        "            return 1 - roc_auc_score(y, y_pred)\n",
        "        else:\n",
        "            raise Exception(\"Not implemented yet.\")\n"
      ],
      "execution_count": 12,
      "outputs": []
    },
    {
      "cell_type": "code",
      "metadata": {
        "id": "EXkcB_jI3erG"
      },
      "source": [
        "class LGBFitter(FitterBase):\n",
        "    def __init__(self, label='label', metric='error', opt: LGBOpt = None, max_eval=100):\n",
        "        super(LGBFitter, self).__init__(label, metric, max_eval)\n",
        "        if opt is not None:\n",
        "            self.opt = opt\n",
        "        else:\n",
        "            self.opt = LGBOpt()\n",
        "        self.best_round = None\n",
        "        self.clf = None\n",
        "\n",
        "    def train(self, train_df, eval_df, params=None, use_best_eval=True):\n",
        "        self.best_round = None\n",
        "        dtrain = lgb.Dataset(train_df.drop(columns=[self.label]), train_df[self.label])\n",
        "        deval = lgb.Dataset(eval_df.drop(columns=[self.label]), eval_df[self.label])\n",
        "        evallist = [dtrain, deval]\n",
        "        if params is None:\n",
        "            use_params = deepcopy(self.opt_params)\n",
        "        else:\n",
        "            use_params = deepcopy(params)\n",
        "\n",
        "        num_round = use_params.pop('num_round')\n",
        "        if use_best_eval:\n",
        "            with io.StringIO() as buf, redirect_stdout(buf):\n",
        "                self.clf = lgb.train(use_params, dtrain, num_round, valid_sets=evallist)\n",
        "                output = buf.getvalue().split(\"\\n\")\n",
        "            min_error = np.inf\n",
        "            min_index = 0\n",
        "            for idx in range(len(output) - 1):\n",
        "                if len(output[idx].split(\"\\t\")) == 3:\n",
        "                    temp = float(output[idx].split(\"\\t\")[2].split(\":\")[1])\n",
        "                    if min_error > temp:\n",
        "                        min_error = temp\n",
        "                        min_index = int(output[idx].split(\"\\t\")[0][1:-1])\n",
        "            print(\"The minimum is attained in round %d\" % (min_index + 1))\n",
        "            self.best_round = min_index + 1\n",
        "            return output\n",
        "        else:\n",
        "            with io.StringIO() as buf, redirect_stdout(buf):\n",
        "                self.clf = lgb.train(use_params, dtrain, num_round, valid_sets=evallist)\n",
        "                output = buf.getvalue().split(\"\\n\")\n",
        "            self.best_round = num_round\n",
        "            return output\n",
        "\n",
        "    def search(self, train_df, eval_df, use_best_eval=True):\n",
        "        self.opt_params = dict()\n",
        "\n",
        "        def train_impl(params):\n",
        "            self.train(train_df, eval_df, params, use_best_eval)\n",
        "            if self.metric == 'auc':\n",
        "                y_pred = self.clf.predict(eval_df.drop(columns=[self.label]), num_iteration=self.best_round)\n",
        "            else:\n",
        "                y_pred = (self.clf.predict(eval_df.drop(columns=[self.label]),\n",
        "                                           num_iteration=self.best_round) > 0.5).astype(int)\n",
        "            return self.get_loss(eval_df[self.label], y_pred)\n",
        "\n",
        "        self.opt_params = fmin(train_impl, asdict(self.opt), algo=tpe.suggest, max_evals=self.max_eval)\n",
        "\n",
        "    def search_k_fold(self, k_fold, data, use_best_eval=True):\n",
        "        self.opt_params = dict()\n",
        "\n",
        "        def train_impl_nfold(params):\n",
        "            loss = list()\n",
        "            for train_id, eval_id in k_fold.split(data):\n",
        "                train_df = data.loc[train_id]\n",
        "                eval_df = data.loc[eval_id]\n",
        "                self.train(train_df, eval_df, params, use_best_eval)\n",
        "                if self.metric == 'auc':\n",
        "                    y_pred = self.clf.predict(eval_df.drop(columns=[self.label]), num_iteration=self.best_round)\n",
        "                else:\n",
        "                    y_pred = (self.clf.predict(eval_df.drop(columns=[self.label]),\n",
        "                                               num_iteration=self.best_round) > 0.5).astype(int)\n",
        "                loss.append(self.get_loss(eval_df[self.label], y_pred))\n",
        "            return np.mean(loss)\n",
        "\n",
        "        self.opt_params = fmin(train_impl_nfold, asdict(self.opt), algo=tpe.suggest, max_evals=self.max_eval)\n",
        "\n",
        "    def train_k_fold(self, k_fold, train_data, test_data, params=None, drop_test_y=True, use_best_eval=True):\n",
        "        acc_result = list()\n",
        "        train_pred = np.empty(train_data.shape[0])\n",
        "        test_pred = np.empty(test_data.shape[0])\n",
        "        if drop_test_y:\n",
        "            dtest = test_data.drop(columns=self.label)\n",
        "        else:\n",
        "            dtest = test_data\n",
        "\n",
        "        models = list()\n",
        "        for train_id, eval_id in k_fold.split(train_data):\n",
        "            train_df = train_data.loc[train_id]\n",
        "            eval_df = train_data.loc[eval_id]\n",
        "            self.train(train_df, eval_df, params, use_best_eval)\n",
        "            models.append(copy.deepcopy(self.clf))\n",
        "            train_pred[eval_id] = self.clf.predict(eval_df.drop(columns=self.label), num_iteration=self.best_round)\n",
        "            if self.metric == 'auc':\n",
        "                y_pred = self.clf.predict(eval_df.drop(columns=[self.label]), num_iteration=self.best_round)\n",
        "            else:\n",
        "                y_pred = (self.clf.predict(eval_df.drop(columns=[self.label]),\n",
        "                                           num_iteration=self.best_round) > 0.5).astype(int)\n",
        "            acc_result.append(self.get_loss(eval_df[self.label], y_pred))\n",
        "            test_pred += self.clf.predict(dtest, num_iteration=self.best_round)\n",
        "        test_pred /= k_fold.n_splits\n",
        "        return train_pred, test_pred, acc_result, models"
      ],
      "execution_count": 13,
      "outputs": []
    },
    {
      "cell_type": "code",
      "metadata": {
        "id": "l47zt7ma3nkw"
      },
      "source": [
        "fitter = LGBFitter(label='loan_status')"
      ],
      "execution_count": 14,
      "outputs": []
    },
    {
      "cell_type": "code",
      "metadata": {
        "id": "lcCNFu453z9r"
      },
      "source": [
        "params = {'num_thread': 4, 'num_leaves': 4, 'metric': 'binary', 'objective': 'binary',\n",
        "                'num_round': 2000, 'learning_rate': 0.02, 'feature_fraction': 0.8, 'bagging_fraction': 0.8}"
      ],
      "execution_count": 15,
      "outputs": []
    },
    {
      "cell_type": "code",
      "metadata": {
        "id": "V2YnD1xI32ef"
      },
      "source": [
        "from sklearn.model_selection import KFold\n",
        "kfold = KFold(n_splits=5)"
      ],
      "execution_count": 16,
      "outputs": []
    },
    {
      "cell_type": "code",
      "metadata": {
        "id": "Gb6hAxDh34Wy",
        "colab": {
          "base_uri": "https://localhost:8080/"
        },
        "outputId": "04fcb74a-9def-4480-dd97-8af8556d4e56"
      },
      "source": [
        "train_pred,test_pred,acc,model = fitter.train_k_fold(kfold, train_shaffle, test, params = params)"
      ],
      "execution_count": 19,
      "outputs": [
        {
          "output_type": "stream",
          "text": [
            "The minimum is attained in round 1028\n",
            "The minimum is attained in round 989\n",
            "The minimum is attained in round 1555\n",
            "The minimum is attained in round 1041\n",
            "The minimum is attained in round 736\n"
          ],
          "name": "stdout"
        }
      ]
    },
    {
      "cell_type": "code",
      "metadata": {
        "id": "deSs7C2Dn8HF",
        "colab": {
          "base_uri": "https://localhost:8080/"
        },
        "outputId": "6e0aab9d-608d-4245-bcde-793f3bc67d15"
      },
      "source": [
        "import numpy as np\n",
        "print(params)\n",
        "print(np.mean(acc))"
      ],
      "execution_count": 20,
      "outputs": [
        {
          "output_type": "stream",
          "text": [
            "{'num_thread': 4, 'num_leaves': 4, 'metric': 'binary', 'objective': 'binary', 'num_round': 2000, 'learning_rate': 0.02, 'feature_fraction': 0.8, 'bagging_fraction': 0.8}\n",
            "0.07972000000000001\n"
          ],
          "name": "stdout"
        }
      ]
    },
    {
      "cell_type": "code",
      "metadata": {
        "colab": {
          "base_uri": "https://localhost:8080/"
        },
        "id": "ZbsqGzX2BInD",
        "outputId": "3f4c2e33-33fd-4a9f-eaec-2711df7f4938"
      },
      "source": [
        "1- accuracy_score(test['loan_status'], (test_pred > 0.5).astype(np.int64))"
      ],
      "execution_count": 21,
      "outputs": [
        {
          "output_type": "execute_result",
          "data": {
            "text/plain": [
              "0.08250000000000002"
            ]
          },
          "metadata": {},
          "execution_count": 21
        }
      ]
    },
    {
      "cell_type": "code",
      "metadata": {
        "id": "NzTxpMTvu5gu"
      },
      "source": [
        "extension_train = test[0:10000].copy()"
      ],
      "execution_count": 41,
      "outputs": []
    },
    {
      "cell_type": "code",
      "metadata": {
        "id": "k3g-4Di25ctO"
      },
      "source": [
        "extension_train.loc[:,'loan_status'] = ((test_pred[0:10000] > 0.5).astype(np.int64)) \n",
        "extension_train"
      ],
      "execution_count": null,
      "outputs": []
    },
    {
      "cell_type": "code",
      "metadata": {
        "id": "b7vJy4psLzwU"
      },
      "source": [
        "stacking_train = train.append(extension_train,ignore_index=True)\n",
        "stacking_test = test[10000:].copy()\n"
      ],
      "execution_count": 53,
      "outputs": []
    },
    {
      "cell_type": "code",
      "metadata": {
        "id": "Z41XEqutV1Rj",
        "colab": {
          "base_uri": "https://localhost:8080/"
        },
        "outputId": "544bbb59-2014-4ec4-9de1-c02c4facfadf"
      },
      "source": [
        "train.shape\n",
        "stacking_train_shaffle.shape\n",
        "test.shape\n",
        "stacking_test.shape"
      ],
      "execution_count": 54,
      "outputs": [
        {
          "output_type": "execute_result",
          "data": {
            "text/plain": [
              "(40000, 147)"
            ]
          },
          "metadata": {},
          "execution_count": 54
        }
      ]
    },
    {
      "cell_type": "code",
      "metadata": {
        "id": "MC4Y4jR7QAeS"
      },
      "source": [
        "# stacking\n",
        "import lightgbm as lgb\n",
        "\n",
        "stacking_train_dataset = lgb.Dataset(stacking_train.drop(columns='loan_status'), stacking_train['loan_status'])\n",
        "stacking_test_dataset = lgb.Dataset(stacking_test.drop(columns='loan_status'), stacking_test['loan_status'])\n",
        "\n",
        "stacking_train_shaffle = stacking_train.sample(frac=1)\n",
        "stacking_train_new = lgb.Dataset(stacking_train_shaffle.drop(columns='loan_status'), stacking_train_shaffle['loan_status'])\n",
        "\n",
        "param = {'num_leaves': 31, 'objective': 'binary', 'metric':'binary_error'}\n",
        "num_round = 2000\n",
        "\n",
        "model = lgb.train(param, stacking_train_new, num_boost_round=num_round, valid_sets=[stacking_train_dataset, stacking_test_dataset])"
      ],
      "execution_count": null,
      "outputs": []
    },
    {
      "cell_type": "code",
      "metadata": {
        "colab": {
          "base_uri": "https://localhost:8080/"
        },
        "id": "pNmbRJLpxEtq",
        "outputId": "8047998b-83a0-4fcd-d68e-3515dcf33d4a"
      },
      "source": [
        "params = {'num_thread': 4, 'num_leaves': 12, 'metric': 'binary', 'objective': 'binary',\n",
        "                'num_round': 4000, 'learning_rate': 0.02, 'feature_fraction': 0.8, 'bagging_fraction': 0.8}\n",
        "kfold = KFold(n_splits=5)\n",
        "_,_,acc,_ = fitter.train_k_fold(kfold, stacking_train_shaffle, stacking_test, params = params)\n",
        "print(params)\n",
        "print(np.mean(acc))"
      ],
      "execution_count": 56,
      "outputs": [
        {
          "output_type": "stream",
          "text": [
            "The minimum is attained in round 389\n",
            "The minimum is attained in round 337\n",
            "The minimum is attained in round 354\n",
            "The minimum is attained in round 286\n",
            "The minimum is attained in round 3912\n",
            "{'num_thread': 4, 'num_leaves': 12, 'metric': 'binary', 'objective': 'binary', 'num_round': 4000, 'learning_rate': 0.02, 'feature_fraction': 0.8, 'bagging_fraction': 0.8}\n",
            "0.07023333333333334\n"
          ],
          "name": "stdout"
        }
      ]
    },
    {
      "cell_type": "code",
      "metadata": {
        "colab": {
          "base_uri": "https://localhost:8080/"
        },
        "id": "3Ozu0BM7Z2kB",
        "outputId": "efe30562-f91d-432f-ae1c-f95df15c7169"
      },
      "source": [
        "from sklearn.model_selection import KFold\n",
        "import numpy as np\n",
        "for learning_rate in [0.015, 0.01, 0.005, 0.001]:\n",
        "  params = {'num_thread': 4, 'num_leaves': 12, 'metric': 'binary', 'objective': 'binary',\n",
        "                'num_round': 4000, 'learning_rate': learning_rate, 'feature_fraction': 0.8, 'bagging_fraction': 0.8}\n",
        "  kfold = KFold(n_splits=5)\n",
        "  _,_,acc,_ = fitter.train_k_fold(kfold, train, test, params = params)\n",
        "  print(params)\n",
        "  print(np.mean(acc))"
      ],
      "execution_count": null,
      "outputs": [
        {
          "output_type": "stream",
          "text": [
            "The minimum is attained in round 562\n",
            "The minimum is attained in round 624\n",
            "The minimum is attained in round 649\n",
            "The minimum is attained in round 799\n",
            "The minimum is attained in round 424\n",
            "{'num_thread': 4, 'num_leaves': 12, 'metric': 'binary', 'objective': 'binary', 'num_round': 4000, 'learning_rate': 0.015, 'feature_fraction': 0.8, 'bagging_fraction': 0.8}\n",
            "0.07997999999999998\n",
            "The minimum is attained in round 897\n",
            "The minimum is attained in round 989\n",
            "The minimum is attained in round 791\n",
            "The minimum is attained in round 1260\n",
            "The minimum is attained in round 678\n",
            "{'num_thread': 4, 'num_leaves': 12, 'metric': 'binary', 'objective': 'binary', 'num_round': 4000, 'learning_rate': 0.01, 'feature_fraction': 0.8, 'bagging_fraction': 0.8}\n",
            "0.08011999999999997\n",
            "The minimum is attained in round 1801\n",
            "The minimum is attained in round 2386\n",
            "The minimum is attained in round 1616\n",
            "The minimum is attained in round 2611\n",
            "The minimum is attained in round 1333\n",
            "{'num_thread': 4, 'num_leaves': 12, 'metric': 'binary', 'objective': 'binary', 'num_round': 4000, 'learning_rate': 0.005, 'feature_fraction': 0.8, 'bagging_fraction': 0.8}\n",
            "0.08002000000000001\n",
            "The minimum is attained in round 4001\n",
            "The minimum is attained in round 4001\n",
            "The minimum is attained in round 4001\n",
            "The minimum is attained in round 4001\n",
            "The minimum is attained in round 4001\n",
            "{'num_thread': 4, 'num_leaves': 12, 'metric': 'binary', 'objective': 'binary', 'num_round': 4000, 'learning_rate': 0.001, 'feature_fraction': 0.8, 'bagging_fraction': 0.8}\n",
            "0.08080000000000001\n"
          ],
          "name": "stdout"
        }
      ]
    },
    {
      "cell_type": "markdown",
      "metadata": {
        "id": "6M-Tqx-PoDBJ"
      },
      "source": [
        "上次作业调参的最优参数： {'num_thread': 4, 'num_leaves': 4, 'metric': 'binary', 'objective': 'binary', 'num_round': 2000, 'learning_rate': 0.02, 'feature_fraction': 0.8, 'bagging_fraction': 0.8} **0.07944**"
      ]
    },
    {
      "cell_type": "markdown",
      "metadata": {
        "id": "nDLMlpzkoXoY"
      },
      "source": [
        "构建衍生变量：discrete_is_loan_10000，即continuous_loan_amnt是否为10000\n",
        "{'num_thread': 4, 'num_leaves': 4, 'metric': 'binary', 'objective': 'binary', 'num_round': 2000, 'learning_rate': 0.02, 'feature_fraction': 0.8, 'bagging_fraction': 0.8}\n",
        "0.07984000000000002"
      ]
    },
    {
      "cell_type": "markdown",
      "metadata": {
        "id": "A2qz03520BHR"
      },
      "source": [
        "构建衍生变量：discrete_rate_greater_917\n",
        "通过观察贷款状态为违约的利率比正常的要高很多，贷款为正常的贷款利率分布于30%和35%的是9.17%，所以尝试增加一个衍生变量：利率是否大于9.17%\n",
        "{'num_thread': 4, 'num_leaves': 4, 'metric': 'binary', 'objective': 'binary', 'num_round': 2000, 'learning_rate': 0.02, 'feature_fraction': 0.8, 'bagging_fraction': 0.8}\n",
        "0.07972000000000001"
      ]
    },
    {
      "cell_type": "markdown",
      "metadata": {
        "id": "zlpZuYk1ZgtB"
      },
      "source": [
        "{'num_thread': 4, 'num_leaves': 16, 'metric': 'binary', 'objective': 'binary', 'num_round': 2000, 'learning_rate': 0.02, 'feature_fraction': 0.8, 'bagging_fraction': 0.8}\n",
        "0.08054000000000001"
      ]
    },
    {
      "cell_type": "markdown",
      "metadata": {
        "id": "tcJxCESbegvT"
      },
      "source": [
        "调参：对叶节点数进行枚举看看哪个效果好，\n",
        "The minimum is attained in round 614\n",
        "The minimum is attained in round 786\n",
        "The minimum is attained in round 859\n",
        "The minimum is attained in round 758\n",
        "The minimum is attained in round 478\n",
        "{'num_thread': 4, 'num_leaves': 6, 'metric': 'binary', 'objective': 'binary', 'num_round': 4000, 'learning_rate': 0.02, 'feature_fraction': 0.8, 'bagging_fraction': 0.8}\n",
        "**0.07993999999999998**\n",
        "The minimum is attained in round 498\n",
        "The minimum is attained in round 637\n",
        "The minimum is attained in round 485\n",
        "The minimum is attained in round 681\n",
        "The minimum is attained in round 365\n",
        "{'num_thread': 4, 'num_leaves': 8, 'metric': 'binary', 'objective': 'binary', 'num_round': 4000, 'learning_rate': 0.02, 'feature_fraction': 0.8, 'bagging_fraction': 0.8}\n",
        "**0.08005999999999998**\n",
        "The minimum is attained in round 448\n",
        "The minimum is attained in round 493\n",
        "The minimum is attained in round 433\n",
        "The minimum is attained in round 547\n",
        "The minimum is attained in round 307\n",
        "{'num_thread': 4, 'num_leaves': 12, 'metric': 'binary', 'objective': 'binary', 'num_round': 4000, 'learning_rate': 0.02, 'feature_fraction': 0.8, 'bagging_fraction': 0.8}\n",
        "**0.07977999999999999**\n",
        "The minimum is attained in round 386\n",
        "The minimum is attained in round 376\n",
        "The minimum is attained in round 405\n",
        "The minimum is attained in round 550\n",
        "The minimum is attained in round 290\n",
        "{'num_thread': 4, 'num_leaves': 16, 'metric': 'binary', 'objective': 'binary', 'num_round': 4000, 'learning_rate': 0.02, 'feature_fraction': 0.8, 'bagging_fraction': 0.8}\n",
        "**0.08054000000000001**\n",
        "The minimum is attained in round 316\n",
        "The minimum is attained in round 293\n",
        "The minimum is attained in round 329\n",
        "The minimum is attained in round 289\n",
        "The minimum is attained in round 274\n",
        "{'num_thread': 4, 'num_leaves': 32, 'metric': 'binary', 'objective': 'binary', 'num_round': 4000, 'learning_rate': 0.02, 'feature_fraction': 0.8, 'bagging_fraction': 0.8}\n",
        "**0.08077999999999999**\n",
        "The minimum is attained in round 301\n",
        "The minimum is attained in round 244\n",
        "The minimum is attained in round 306\n",
        "The minimum is attained in round 227\n",
        "The minimum is attained in round 227\n",
        "{'num_thread': 4, 'num_leaves': 64, 'metric': 'binary', 'objective': 'binary', 'num_round': 4000, 'learning_rate': 0.02, 'feature_fraction': 0.8, 'bagging_fraction': 0.8}\n",
        "**0.08186000000000002**\n",
        "The minimum is attained in round 368\n",
        "The minimum is attained in round 216\n",
        "The minimum is attained in round 232\n",
        "The minimum is attained in round 215\n",
        "The minimum is attained in round 211\n",
        "{'num_thread': 4, 'num_leaves': 128, 'metric': 'binary', 'objective': 'binary', 'num_round': 4000, 'learning_rate': 0.02, 'feature_fraction': 0.8, 'bagging_fraction': 0.8}\n",
        "**0.08202000000000001**"
      ]
    },
    {
      "cell_type": "markdown",
      "metadata": {
        "id": "P2iSPIjmfeNp"
      },
      "source": [
        "发现收敛时进行的轮数比较少，因此想减小学习率来看模型效果\n",
        "The minimum is attained in round 562\n",
        "The minimum is attained in round 624\n",
        "The minimum is attained in round 649\n",
        "The minimum is attained in round 799\n",
        "The minimum is attained in round 424\n",
        "{'num_thread': 4, 'num_leaves': 12, 'metric': 'binary', 'objective': 'binary', 'num_round': 4000, 'learning_rate': 0.015, 'feature_fraction': 0.8, 'bagging_fraction': 0.8}\n",
        "0.07997999999999998\n",
        "The minimum is attained in round 897\n",
        "The minimum is attained in round 989\n",
        "The minimum is attained in round 791\n",
        "The minimum is attained in round 1260\n",
        "The minimum is attained in round 678\n",
        "{'num_thread': 4, 'num_leaves': 12, 'metric': 'binary', 'objective': 'binary', 'num_round': 4000, 'learning_rate': 0.01, 'feature_fraction': 0.8, 'bagging_fraction': 0.8}\n",
        "0.08011999999999997\n",
        "The minimum is attained in round 1801\n",
        "The minimum is attained in round 2386\n",
        "The minimum is attained in round 1616\n",
        "The minimum is attained in round 2611\n",
        "The minimum is attained in round 1333\n",
        "{'num_thread': 4, 'num_leaves': 12, 'metric': 'binary', 'objective': 'binary', 'num_round': 4000, 'learning_rate': 0.005, 'feature_fraction': 0.8, 'bagging_fraction': 0.8}\n",
        "0.08002000000000001\n",
        "The minimum is attained in round 4001\n",
        "The minimum is attained in round 4001\n",
        "The minimum is attained in round 4001\n",
        "The minimum is attained in round 4001\n",
        "The minimum is attained in round 4001\n",
        "{'num_thread': 4, 'num_leaves': 12, 'metric': 'binary', 'objective': 'binary', 'num_round': 4000, 'learning_rate': 0.001, 'feature_fraction': 0.8, 'bagging_fraction': 0.8}\n",
        "0.08080000000000001"
      ]
    },
    {
      "cell_type": "markdown",
      "metadata": {
        "id": "DcXRVx6j2_M2"
      },
      "source": [
        "构建衍生变量：discrete_rate_greater_10.99\n",
        "{'num_thread': 4, 'num_leaves': 4, 'metric': 'binary', 'objective': 'binary', 'num_round': 2000, 'learning_rate': 0.02, 'feature_fraction': 0.8, 'bagging_fraction': 0.8}\n",
        "0.07975999999999998"
      ]
    },
    {
      "cell_type": "markdown",
      "metadata": {
        "id": "H_LPAb2LsWhC"
      },
      "source": [
        "**stacking,**\n",
        "选定参数：\n",
        "{'num_thread': 4, 'num_leaves': 4, 'metric': 'binary', 'objective': 'binary', 'num_round': 2000, 'learning_rate': 0.02, 'feature_fraction': 0.8, 'bagging_fraction': 0.8}\n",
        "**0.07972000000000001**\n",
        "\n",
        "生成新的训练集：将测试集的前10000个数据用上面增加衍生变量并调参的模型生成预测结果，放入训练集中，\n",
        "生成测试集，去掉用作训练集的前10000个，即为后40000个数据\n",
        "\n",
        "The minimum is attained in round 389\n",
        "The minimum is attained in round 337\n",
        "The minimum is attained in round 354\n",
        "The minimum is attained in round 286\n",
        "The minimum is attained in round 3912\n",
        "{'num_thread': 4, 'num_leaves': 12, 'metric': 'binary', 'objective': 'binary', 'num_round': 4000, 'learning_rate': 0.02, 'feature_fraction': 0.8, 'bagging_fraction': 0.8}\n",
        "**0.07023333333333334**\n",
        "\n",
        "可观察到增加stacking之后效果显著提升\n"
      ]
    }
  ]
}