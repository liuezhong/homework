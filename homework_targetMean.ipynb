{
  "nbformat": 4,
  "nbformat_minor": 0,
  "metadata": {
    "colab": {
      "name": "homework_targetMean.ipynb",
      "provenance": [],
      "collapsed_sections": [],
      "authorship_tag": "ABX9TyNd1IL/5NCzMFk9fsHukFzc",
      "include_colab_link": true
    },
    "kernelspec": {
      "name": "python3",
      "display_name": "Python 3"
    },
    "language_info": {
      "name": "python"
    }
  },
  "cells": [
    {
      "cell_type": "markdown",
      "metadata": {
        "id": "view-in-github",
        "colab_type": "text"
      },
      "source": [
        "<a href=\"https://colab.research.google.com/github/liuezhong/homework/blob/master/homework_targetMean.ipynb\" target=\"_parent\"><img src=\"https://colab.research.google.com/assets/colab-badge.svg\" alt=\"Open In Colab\"/></a>"
      ]
    },
    {
      "cell_type": "code",
      "metadata": {
        "id": "CT9oofGJKdaC"
      },
      "source": [
        "%load_ext Cython"
      ],
      "execution_count": null,
      "outputs": []
    },
    {
      "cell_type": "markdown",
      "metadata": {
        "id": "WMBoJs8HYCN5"
      },
      "source": [
        "**以下是老师的源代码，耗时：0.009485960006713867**\n",
        "\n"
      ]
    },
    {
      "cell_type": "code",
      "metadata": {
        "id": "HX5XMyaIKxNL"
      },
      "source": [
        "%%cython\n",
        "\n",
        "import numpy as np\n",
        "cimport numpy as np\n",
        "\n",
        "cpdef target_mean_v3(data, y_name, x_name):\n",
        "    cdef long nrow = data.shape[0]\n",
        "    cdef np.ndarray[double] result = np.asfortranarray(np.zeros(nrow), dtype=np.float64)\n",
        "    cdef np.ndarray[double] y = np.asfortranarray(data[y_name], dtype=np.float64)\n",
        "    cdef np.ndarray[double] x = np.asfortranarray(data[x_name], dtype=np.float64)\n",
        "\n",
        "    target_mean_v3_impl(result, y, x, nrow)\n",
        "    return result\n",
        "\n",
        "cdef void target_mean_v3_impl(double[:] result, double[:] y, double[:] x, const long nrow):\n",
        "    cdef dict value_dict = dict()\n",
        "    cdef dict count_dict = dict()\n",
        "\n",
        "    cdef long i\n",
        "    for i in range(nrow):\n",
        "        if x[i] not in value_dict.keys():\n",
        "            value_dict[x[i]] = y[i]\n",
        "            count_dict[x[i]] = 1\n",
        "        else:\n",
        "            value_dict[x[i]] += y[i]\n",
        "            count_dict[x[i]] += 1\n",
        "\n",
        "    i=0\n",
        "    for i in range(nrow):\n",
        "        result[i] = (value_dict[x[i]] - y[i])/(count_dict[x[i]]-1)\n"
      ],
      "execution_count": null,
      "outputs": []
    },
    {
      "cell_type": "code",
      "metadata": {
        "colab": {
          "base_uri": "https://localhost:8080/"
        },
        "id": "22i_St9kKtTx",
        "outputId": "dd233564-c84c-4e9c-a4c2-1172564580dc"
      },
      "source": [
        "import time\n",
        "import pandas as pd\n",
        "\n",
        "y = np.random.randint(2, size=(5000, 1))\n",
        "x = np.random.randint(10, size=(5000, 1))\n",
        "data = pd.DataFrame(np.concatenate([y, x], axis=1), columns=['y', 'x'])\n",
        "\n",
        "start = time.time()\n",
        "result = target_mean_v3(data, 'y', 'x')\n",
        "end = time.time()\n",
        "print (end - start)"
      ],
      "execution_count": null,
      "outputs": [
        {
          "output_type": "stream",
          "text": [
            "0.009485960006713867\n"
          ],
          "name": "stdout"
        }
      ]
    },
    {
      "cell_type": "markdown",
      "metadata": {
        "id": "QmLownqgYMCX"
      },
      "source": [
        "**以下是我优化后的代码，所做的改动：**\n",
        "1.   将x的类型由double改为int；\n",
        "2.   用unordered_map替代dict；\n",
        "3.   用for i from 0 <= i < nrow by 1替代rangge； \n",
        "\n",
        "耗时：0.0017247200012207031 \n",
        "\n",
        "\n"
      ]
    },
    {
      "cell_type": "code",
      "metadata": {
        "id": "OB8b0f-YLtCK"
      },
      "source": [
        "\n",
        "%%cython\n",
        "\n",
        "import numpy as np\n",
        "cimport numpy as np\n",
        "from libcpp.unordered_map cimport unordered_map\n",
        "\n",
        "\n",
        "cpdef target_mean_v4(data, y_name, x_name):\n",
        "    cdef long nrow = data.shape[0]\n",
        "    cdef np.ndarray[double] result = np.asfortranarray(np.zeros(nrow), dtype=np.float64)\n",
        "    cdef np.ndarray[double] y = np.asfortranarray(data[y_name], dtype=np.float64)\n",
        "    cdef np.ndarray[int] x = np.asfortranarray(data[x_name], dtype=np.int32)\n",
        "\n",
        "    target_mean_v4_impl(result, y, x, nrow)\n",
        "    return result\n",
        "\n",
        "cdef void target_mean_v4_impl(double[:] result, double[:] y, int[:] x, const long nrow):\n",
        "    cdef unordered_map[int, double] value_dict\n",
        "    cdef unordered_map[int, int] count_dict\n",
        "\n",
        "    cdef long i\n",
        "    for i from 0 <= i < nrow by 1:\n",
        "      if value_dict.find(x[i]) != value_dict.end():\n",
        "          value_dict[x[i]] = y[i]\n",
        "          count_dict[x[i]] = 1\n",
        "      else:\n",
        "          value_dict[x[i]] += y[i]\n",
        "          count_dict[x[i]] += 1\n",
        "\n",
        "    i=0\n",
        "    for i from 0 <= i < nrow by 1:\n",
        "        result[i] = (value_dict[x[i]] - y[i])/(count_dict[x[i]]-1)\n",
        "\n"
      ],
      "execution_count": null,
      "outputs": []
    },
    {
      "cell_type": "code",
      "metadata": {
        "colab": {
          "base_uri": "https://localhost:8080/"
        },
        "id": "hZ6ZET4RL8c6",
        "outputId": "3ab38f8c-23f7-4f44-ca9a-4606fd0ccb6c"
      },
      "source": [
        "import time\n",
        "import pandas as pd\n",
        "\n",
        "y = np.random.randint(2, size=(5000, 1))\n",
        "x = np.random.randint(10, size=(5000, 1))\n",
        "data = pd.DataFrame(np.concatenate([y, x], axis=1), columns=['y', 'x'])\n",
        "\n",
        "start = time.time()\n",
        "result = target_mean_v4(data, 'y', 'x')\n",
        "end = time.time()\n",
        "print (end - start)"
      ],
      "execution_count": null,
      "outputs": [
        {
          "output_type": "stream",
          "text": [
            "0.0017247200012207031\n"
          ],
          "name": "stdout"
        }
      ]
    }
  ]
}